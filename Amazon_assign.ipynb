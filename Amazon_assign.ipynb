{
 "cells": [
  {
   "cell_type": "code",
   "execution_count": 2,
   "id": "1de0f1c6",
   "metadata": {},
   "outputs": [],
   "source": [
    "import selenium\n",
    "import time\n",
    "import os\n",
    "import time\n",
    "import pandas as pd\n",
    "import io\n",
    "from itertools import zip_longest"
   ]
  },
  {
   "cell_type": "code",
   "execution_count": 3,
   "id": "97e01abd",
   "metadata": {},
   "outputs": [],
   "source": [
    "from selenium import webdriver\n",
    "from selenium.webdriver.support.ui import Select"
   ]
  },
  {
   "cell_type": "code",
   "execution_count": 10,
   "id": "ec1b30d3",
   "metadata": {},
   "outputs": [
    {
     "name": "stdout",
     "output_type": "stream",
     "text": [
      "Book name:  ['AmazonBasics Classic Notebook, Plain - (130mm x 210mm) - 240 pages (Black)', \"MCSID RAZZ- Official Harry Potter Gift Set Birthday Gift Set Combo Pack of 8 (2 Binded Notebook + 6 Coaster) Licensed by Warner Bros, USA (India) Best Valentine's Day Gift\", 'Navneet Youva | Soft Bound |Long Book | 21 cm X 29.7 cm | Single Line | 172 Pages | Pack of 6', 'HAWAMAHAL Notebook Long/CNB Size Notebook 200 Pages (Pack of 4)', 'SWAPKART Portable Flexible Adjustable Eye Protection USB LED Desk Light Table Lamp for Reading, Working on PC, Laptop, Power Bank, Bedroom and Other Uses ( Multicolour )', 'HAPPY CRAFT A6 Mini Classic Notebook Journals, 4 Pack, 10.5 X 14.85 (cm) Ruled Abstract-print Notebook Journals for Writing 100 (Pages Both Side Included) Theme Designed Soft Cover Perfect For Work, Travel, College - Pack of 4', 'Luxor 5 Subject Spiral Premium Exercise Notebook, Single Ruled - (18cm X 24cm), 250 Pages, Pack of 3', 'Classmate Notebook - Single line, Spiral Binding, 240mm x 180mm, 200 Pages', 'Shivaay 192 Pages A4 Size Notebook (Pack Set Of 6) - Single Line Ruled (29 x 21 cm) | long notebooks for Writing | Register Notebook for Students | Copy for Students', 'Classmate Single Line interleaf Notebook- Pack of 6 (120 Pages,240 x 180mm)', 'Classmate Long Notebook - A4, Soft Cover, 240 Pages, Single Line - Pack of 3', 'KAWTRA Antique Leather Journal Writing Notebook-Handmade Leather Binding, Unisex, 200 Pages (7.5 x 5.5 Inches) and give Free Surprise Gifts on Order', 'Camlin Premio 64 GSM Unruled 200 pages Notebook pack of 3', 'Colouring Books Collections for Early Learning by InIkao(english) : Pack of 8 Copy Coloring Books on alphabets, numbers, colors, shapes, toys and rhymes', 'Luxor 5 Subject Single Ruled Notebook - A4, 70 GSM, 300 pages', 'Camlin Premio 64 GSM Spiral 5 Subject Single Line 300 pages Notebook', 'Classmate Spiral Notebook - Single line, Spiral Binding, 240mm x 180mm, 200 Pages, Pack of 4', 'Papboo A5 Handy, BE Kind, Easy to Carry Spiral Wiro Notebook: 100 GSM Natural Shade Paper, Dot Grid, 100 Pages, Journal, Diary, Gift', 'Aayan Smart Multi-Purpose Laptop Table with Dock Stand and Coffee Cup Holder/Study Table/Bed Table/Foldable and Portable/Ergonomic & Rounded Edges/Non-Slip Legs (Slotted Wood)', 'Factor Notes Notebooks: 2-in-1 Pack, 90 GSM Natural Shade Paper Journal Diary, B6, 224 Pages (Grateful & Thankful - Dot Grid)', \"MCSID RAZZ- Official Harry Potter Gift Set/Birthday Gift Combo Pack of 8 (2 Binded Notebook + 6 Coaster) Licensed by Warner Bros, USA (India) Best Valentine's Day Gift\", 'Supple Room Marble Sticky Notes | Self Adhesive | 70 Sheets | Set of 2', \"MCSID RAZZ- Official Harry Potter |Gift Set Birthday Gift/Anniversary Gift | Combo Pack of 8 (2 Binded Notebook + 6 Coaster) Licensed by Warner Bros, USA (India) Best Valentine's Day Gift\", 'AmazonBasics Legal/Wide Ruled Pad (12 pack, 50 sheets per pad) 222 GSM, 8.5 inches X 11.75 inches - White', 'Classmate Notebook - 240mm x 180mm, Soft Cover, 172 Pages, Single Line - Pack of 6', 'Classmate Notebook - 190mm x 155mm, Soft Cover, 92 Pages, Single Line - Pack of 18', 'Classmate Notebook Soft Cover Square 1 cm (Squares on Both Left and Right Pages) Size 24x18cm 120 Pages (Pack of 6) by fine Creations', 'WRITE ON WHITE Single Line Notebook, 172 Pages Brown Long Book 24x18 cm (Pack of 8)', 'Premium Diary | Classic Notebook | Sweat Velvet Cover With Embossed Design On Black & Grey Cover, (8.5 inch, 200 Pages) | Printek', 'Paperkraft Signature Notebook - 148 mm x 216 mm, Hard Cover, 224 Pages, Single Line & Expression Series 2252005 Notebook', 'Classmate Notebook - Single Line 180 Pages (29.7 X 21 cm)', 'WRITE ON WHITE Single Line Notebook, 120 Pages Brown Long Book 24x18 CM (Pack of 12)', 'Luxor 5 Subject Single Ruled Notebook - B5, 70 GSM, 300 pages', 'Classmate Note Book Soft Cover Double line (Double Lines on Both Left & Right Pages) Size 24x18cm 172 Pages (Pack of 4) by fine Creations', 'WRITE ON WHITE Single Line Notebook, 172 Pages Creative Long Book 24x18 cm (Pack of 8)', 'Shape Long Notebook for Students Copy for Girls & Boys A4 Page Size Note Book for College Students, Office,Writing Notebook Set - Pack of 6 (140 Pages)', 'Classmate Note Book Soft Cover Double Lines on Both Left and Right Page Size 24x18cm 120 Pages (Pack of 6) by fine Creations', 'Doodle Dream on Spiral Bound Notebook Diary with Bookmark Dangler (B5, 80 GSM,160 Pages6.5 X 8.5 Inches,)', 'Shivaay Spiral Note Books | 500 Pages | A4 Register | 29.7 x 21 cm | Single Line Ruled | Spiral Copy Notebook Register for student of School & College | for Office Purpose( Pack Of 6 Pcs)', 'Luxor 5 Subject Notebook Single Ruled with Pen Holder On Back (A5)', 'Stysol School Bags Martucci Laptop Backpacks With Rain Cover For Unisex', 'STRIFF Adjustable Laptop Stand Patented Riser Ventilated Portable Foldable Compatible with MacBook Notebook Tablet Tray Desk Table Book with Free Phone Stand(Black)', 'Amazon Brand - Solimo A5 Notebook (5.5 X 8.5 Inches), 80 GSM, 192 Ruled Pages, Adventurous Life', 'Classmate Notebook - Single Line 160 Pages (29.7 X 21 cm)', 'Camlin Premio 64 GSM Single Line 140 pages Notebook pack of 3', 'Crazy Corner Blue Birds Printed 14 Inch Laptop Sleeve/Laptop Case Cover with Shockproof & Waterproof Linen On All Inner Sides (Made of Canvas with Ultra HD Print) - Gift for Men/Women', 'Mi Notebook Horizon Edition 14 Intel Core i5-10210U 10th Gen 14-inch (35.56 cms) Thin and Light Laptop(8GB/512GB SSD/Windows 10/Nvidia MX350 2GB Graphics/Grey/1.35Kg), XMA1904-AR+Webcam', 'Doodle Initial Y Lasercut Diary Notebook, B6 (6.69 X 4.72 X 0.5 Inches), 192 Pages, 80 GSM, Gift for Women', 'Karmanah Custom Leather Journal with Notebook Personalized Photo Engraved Leather Diary Cover engrave a Message and a Photo on Genuine Leather Organizer (Light Brown)', 'Amazon Brand - Solimo A5 Notebook (5.5 X 8.5 Inches), 80 GSM, 192 Ruled Pages, Indigo Motif', 'Drapvision Premium Notebooks | Pack of 2 | 300 Pages Total, 150 Pages Each | Unruled | 80 GSM Fine Paper | Design: Prosperous Cactus', 'Crazy Corner Unicorn & Hearts Print 15 Inch Laptop Sleeve/Laptop Case Cover with Shockproof & Waterproof Linen On All Inner Sides (Made of Canvas with Ultra HD Print) - Gift for Men/Women', 'Crazy Corner Donuts Printed MacBook Pro 16 Inch Laptop Sleeve/Laptop Case Cover with Shockproof & Waterproof Linen On All Inner Sides | Apple MacBook Pro Laptop Sleeve | Canvas', 'Classmate Notebook Soft Cover Single line Ruled (Single Lines on Both Left and Right Pages) (Size: 24x18cm) 120 Pages (Pack of 6) by fine Creations.', 'Premio 64 GSM Unruled 140 pages Notebook pack of 3', 'Factor Notes Notebook: 90 GSM Natural Shade Paper Journal Diary, B6, Ruled, 112 Pages (Smile Sparkle Shine)', 'Handmade Vintage Leather Journal - Vintage Deckle Edge Paper Notebook – Vintage Key Closure - Premium Antique Diary - Blackberry Color - 8 inches X 6 inches', 'Mooch Cinema Cover Print Khaki Paper Notebook 108 Pages, Lights Camera Action Reel Dairy Handmade Pocket Friendly for Gifting with Elastic Closure, Brown Paper (A6 Size)', 'Urban Edge King Size Notebook 172 Pages - Unruled (Pack of 6)', \"MCSID RAZZ- Official Harry Potter |Gift Set Birthday Gift/Anniversary Gift | Combo Pack of 5 (3 Binded Notebook+ 2 Coaster) Licensed by Warner Bros, USA (India) Best Valentine's Day Gift\"]\n",
      "Old Price:  ['₹595', '₹999', '₹390', '₹252', '₹999', '₹499', '₹330', '₹402', '₹192', '₹240', '₹1,399', '₹240', '₹300', '₹300', '₹180', '₹240', '₹349', '₹1,099', '₹499', '₹999', '₹500', '₹999', '₹1,005', '₹288', '₹306', '₹400', '₹600', '₹264', '₹325', '₹62', '₹420', '₹210', '₹400', '₹450', '₹500', '₹545', '₹1,260', '₹1,855', '₹999', '₹449', '₹180', '₹859', '₹61,498', '₹445', '₹399', '₹399', '₹999', '₹899', '₹290', '₹180', '₹199', '₹1,499', '₹599', '₹999']\n",
      "New Price:  ['299', '699', '308', '219', '349', '299', '287', '60', '240', '185', '222', '649', '224', '189', '240', '165', '235', '229', '629', '199', '699', '299', '699', '859', '223', '300', '350', '360', '199', '300', '58', '396', '191', '350', '360', '330', '350', '299', '795', '899', '549', '239', '75', '169', '649', '54,999', '299', '3,500', '261', '299', '699', '749', '201', '173', '99', '649', '399', '270', '699']\n"
     ]
    }
   ],
   "source": [
    "driverPath=r\"C:\\Users\\merit\\Desktop\\Notes\\Python\\chromedriver_win32\\chromedriver.exe\"\n",
    "driver=webdriver.Chrome(executable_path=driverPath)\n",
    "driver.get(\"https://www.amazon.in/s?k=offers+on+notebooks&crid=1MRXWRSOF40BE&sprefix=offers+on+not%2Caps%2C407&ref=nb_sb_ss_ts-doa-p_1_13\")\n",
    "driver.maximize_window()\n",
    "writer = pd.ExcelWriter('Assignment-4.xlsx',engine = 'xlsxwriter')\n",
    "driver.find_elements_by_xpath(\"//span[contains(@class,'a-size-base-plus a-color-base a-text-normal')]\")\n",
    "time.sleep(1)\n",
    "Book = driver.find_elements_by_xpath(\"//span[contains(@class,'a-size-base-plus a-color-base a-text-normal')]\")\n",
    "Old_Price = driver.find_elements_by_xpath(\"//span[contains(@class,'a-price a-text-price')]\")\n",
    "New_Price = driver.find_elements_by_xpath(\"//span[contains(@class,'a-price-whole')]\")\n",
    "ListOfBooks= []\n",
    "ListOfOldPrice=[]\n",
    "ListOfNewPrice=[]\n",
    "for i in Book:\n",
    "    ListOfBooks.append(i.text)\n",
    "print(\"Book name: \", ListOfBooks)\n",
    "\n",
    "for j in Old_Price:\n",
    "    ListOfOldPrice.append(j.text)\n",
    "print(\"Old Price: \", ListOfOldPrice)\n",
    "\n",
    "for k in New_Price:\n",
    "    ListOfNewPrice.append(k.text)\n",
    "print(\"New Price: \", ListOfNewPrice)\n",
    "\n",
    "\n",
    "l=zip_longest(ListOfBooks,ListOfOldPrice,ListOfNewPrice)\n",
    "\n",
    "\n",
    "\n",
    "df = pd.DataFrame(l,columns=[\"PRODUCT NAME\",\"OLD PRICE\",\"NEW PRICE\"])\n",
    "df.to_excel(writer,sheet_name = 'DANIEL WELLINGTON' ,index = False)\n",
    "df\n",
    "writer.save()\n",
    "driver.close()"
   ]
  }
 ],
 "metadata": {
  "kernelspec": {
   "display_name": "Python 3 (ipykernel)",
   "language": "python",
   "name": "python3"
  },
  "language_info": {
   "codemirror_mode": {
    "name": "ipython",
    "version": 3
   },
   "file_extension": ".py",
   "mimetype": "text/x-python",
   "name": "python",
   "nbconvert_exporter": "python",
   "pygments_lexer": "ipython3",
   "version": "3.9.6"
  }
 },
 "nbformat": 4,
 "nbformat_minor": 5
}
